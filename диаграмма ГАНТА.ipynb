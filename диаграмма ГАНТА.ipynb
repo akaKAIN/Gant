{
 "cells": [
  {
   "cell_type": "markdown",
   "metadata": {},
   "source": [
    "### Для корректного отодражения диаграмм, следующие скрипты должны быть добавлены в тег <head> ... </head> html-документа"
   ]
  },
  {
   "cell_type": "code",
   "execution_count": null,
   "metadata": {},
   "outputs": [],
   "source": [
    "<script src=\"https://cdn.pydata.org/bokeh/release/bokeh-1.2.0.min.js\" type=\"text/javascript\">\n",
    "</script>\n",
    "    "
   ]
  },
  {
   "cell_type": "code",
   "execution_count": null,
   "metadata": {},
   "outputs": [],
   "source": [
    "import datetime\n",
    "import pandas as pd\n",
    "from itertools import groupby\n",
    "from bokeh.plotting import figure, show, output_notebook, output_file\n",
    "from bokeh.models import ColumnDataSource, Range1d\n",
    "from bs4 import BeautifulSoup\n",
    "import time"
   ]
  },
  {
   "cell_type": "code",
   "execution_count": null,
   "metadata": {
    "scrolled": true
   },
   "outputs": [],
   "source": [
    "process_list = [\n",
    "    ['breakfast',\n",
    "     datetime.datetime(2019, 6, 1, 7, 15),\n",
    "     datetime.datetime(2019, 6, 1, 7, 55)\n",
    "    ],\n",
    "    ['walking',\n",
    "     datetime.datetime(2019, 6, 1, 8, 15),\n",
    "     datetime.datetime(2019, 6, 1, 10, 55)\n",
    "    ],\n",
    "    ['sleeping',\n",
    "     datetime.datetime(2019, 6, 1, 11, 15),\n",
    "     datetime.datetime(2019, 6, 1, 12, 55)\n",
    "    ],\n",
    "    ['Hotel_Boot',\n",
    "     datetime.datetime(2019, 6, 1, 20, 50),\n",
    "     datetime.datetime(2019, 6, 5, 12, 0)\n",
    "    ],\n",
    "    ['dinner',\n",
    "     datetime.datetime(2019, 6, 1, 13, 15),\n",
    "     datetime.datetime(2019, 6, 1, 14, 55)\n",
    "    ],\n",
    "    ['breakfast',\n",
    "     datetime.datetime(2019, 6, 2, 7, 15),\n",
    "     datetime.datetime(2019, 6, 2, 7, 55)\n",
    "    ],\n",
    "    ['dinner',\n",
    "     datetime.datetime(2019, 6, 2, 13, 15),\n",
    "     datetime.datetime(2019, 6, 2, 14, 55)\n",
    "    ],\n",
    "    ['breakfast',\n",
    "     datetime.datetime(2019, 6, 3, 7, 15),\n",
    "     datetime.datetime(2019, 6, 3, 7, 55)\n",
    "    ],\n",
    "    ['dinner',\n",
    "     datetime.datetime(2019, 6, 3, 13, 15),\n",
    "     datetime.datetime(2019, 6, 3, 14, 55)\n",
    "    ],\n",
    "    ['walk_ex',\n",
    "     datetime.datetime(2019, 6, 2, 15, 15),\n",
    "     datetime.datetime(2019, 6, 2, 19, 0)\n",
    "    ],\n",
    "    ['a_photo_session',\n",
    "     datetime.datetime(2019, 6, 3, 9, 30),\n",
    "     datetime.datetime(2019, 6, 3, 12, 0)\n",
    "    ],\n",
    "    ['wine_museum',\n",
    "     datetime.datetime(2019, 6, 3, 16, 0),\n",
    "     datetime.datetime(2019, 6, 5, 10, 30)]\n",
    "]"
   ]
  },
  {
   "cell_type": "code",
   "execution_count": null,
   "metadata": {},
   "outputs": [],
   "source": []
  },
  {
   "cell_type": "code",
   "execution_count": null,
   "metadata": {},
   "outputs": [],
   "source": [
    "def unpack_lists(lists_in_list: list) -> list:\n",
    "    unpacked_list = []\n",
    "    for elem in lists_in_list:\n",
    "        if type(elem[0]) is str:\n",
    "            unpacked_list.append(elem)\n",
    "        else:\n",
    "            unpacked_list.extend(elem)\n",
    "    return unpacked_list \n",
    "\n",
    "\n",
    "def partition_proc(event: list) -> list:\n",
    "    delta = event[2].day - event[1].day\n",
    "    if delta > 0:\n",
    "        point = event[1]\n",
    "        temp_list = []\n",
    "        time_end = datetime.time(23, 59)\n",
    "\n",
    "        for i in range(delta):\n",
    "# Добавление индекса разбирым по суткам процессам\n",
    "#             temp_list.append([\n",
    "#                 (event[0] + '_' + str(i+1)),\n",
    "#                 point,\n",
    "#                 datetime.datetime.combine(point.date(), time_end)])\n",
    "            temp_list.append([\n",
    "                event[0],\n",
    "                point,\n",
    "                datetime.datetime.combine(point.date(), time_end)])\n",
    "    \n",
    "            point = datetime.datetime.combine(\n",
    "                point.date(), time_end\n",
    "            ) + datetime.timedelta(minutes=1)\n",
    "# Добавление индекса разбирым по суткам процессам\n",
    "#         temp_list.append([(event[0] + '_' + str(i+2)), point, event[2]])\n",
    "        temp_list.append([event[0], point, event[2]])\n",
    "    \n",
    "        return temp_list\n",
    "    return event\n",
    "\n",
    "\n",
    "def main(process_list: list) -> list:\n",
    "    for index, value in enumerate(process_list):\n",
    "        process_list[index] = partition_proc(value)\n",
    "    process_list = unpack_lists(process_list)\n",
    "    return sorted(process_list, key=lambda x: x[1])"
   ]
  },
  {
   "cell_type": "code",
   "execution_count": null,
   "metadata": {},
   "outputs": [],
   "source": [
    "def diagram_drow_in_file(day_proc: list):\n",
    "    # Рисует диаграмму Ганта и сохраняет ее в файл\n",
    "    \n",
    "    DF=pd.DataFrame(columns=['Process','Start','End'])\n",
    "    diagram_title = str(day_proc[0][1].date().strftime('%d.%m.%Y'))\n",
    "    for i, data in enumerate(day_proc[::-1]):\n",
    "        DF.loc[i] = data\n",
    "    G=figure(\n",
    "        title=diagram_title,\n",
    "        x_axis_type='datetime',\n",
    "        width=350,\n",
    "        height=150,\n",
    "        y_range=DF.Process.tolist(),\n",
    "        x_range=Range1d(\n",
    "            DF.Start.min() - datetime.timedelta(hours=1),\n",
    "            DF.End.max() + datetime.timedelta(hours=1))\n",
    "    )\n",
    "    DF['ID']=DF.index+0.75\n",
    "    DF['ID1']=DF.index+0.25\n",
    "    CDS=ColumnDataSource(DF)\n",
    "    G.quad(\n",
    "        left='Start',\n",
    "        right='End',\n",
    "        bottom='ID',\n",
    "        top='ID1',\n",
    "        source=CDS,\n",
    "        line_width=3)\n",
    "    output_file(url)\n",
    "    show(G)\n",
    "\n",
    "\n",
    "def parsing_file():\n",
    "    with open(url) as html:\n",
    "        diagram = {}\n",
    "        soup = BeautifulSoup(html)\n",
    "#         diagram['head'] = str(soup.head.contents[7]) + str(soup.head.contents[9])\n",
    "        diagram['body'] = str(soup.body.find_all(['div', 'script']))[1:-1]\n",
    "    return diagram"
   ]
  },
  {
   "cell_type": "code",
   "execution_count": null,
   "metadata": {},
   "outputs": [],
   "source": []
  },
  {
   "cell_type": "markdown",
   "metadata": {},
   "source": [
    "### Запуск тела программы"
   ]
  },
  {
   "cell_type": "code",
   "execution_count": null,
   "metadata": {},
   "outputs": [],
   "source": [
    "if __name__ == '__main__':\n",
    "    \n",
    "    url = '/home/kain/gant1.html'\n",
    "    diagrams_list = []\n",
    "    correct_process_list = main(process_list)\n",
    "    correct_process_list = [\n",
    "        list(elem) for _, elem in groupby(correct_process_list, lambda x: x[1].day)\n",
    "    ]\n",
    "    \n",
    "#     Проверка вывода процессов\n",
    "#     for i in correct_process_list:\n",
    "#         for k in i:\n",
    "#             print(k)\n",
    "    \n",
    "    for day_proc in correct_process_list:\n",
    "        diagram_drow_in_file(day_proc)\n",
    "        time.sleep(0.5)\n",
    "        diagram = parsing_file()\n",
    "        diagrams_list.append(diagram)"
   ]
  },
  {
   "cell_type": "code",
   "execution_count": null,
   "metadata": {},
   "outputs": [],
   "source": [
    "diagrams_list\n",
    "\n"
   ]
  },
  {
   "cell_type": "code",
   "execution_count": null,
   "metadata": {},
   "outputs": [],
   "source": []
  },
  {
   "cell_type": "code",
   "execution_count": null,
   "metadata": {},
   "outputs": [],
   "source": []
  },
  {
   "cell_type": "markdown",
   "metadata": {},
   "source": [
    "#### Просмотр результатов вывода в файле (можно кидать в html-документ)"
   ]
  },
  {
   "cell_type": "code",
   "execution_count": null,
   "metadata": {},
   "outputs": [],
   "source": [
    "with open('result_parse.txt', 'w') as file:\n",
    "#     file.write('<HEAD>:\\n', diagrams_list[0]['head'], '\\n</HEAD>')\n",
    "    for i in range(len(diagrams_list)):\n",
    "        file.write(diagrams_list[i]['body'])"
   ]
  },
  {
   "cell_type": "code",
   "execution_count": null,
   "metadata": {},
   "outputs": [],
   "source": []
  },
  {
   "cell_type": "code",
   "execution_count": null,
   "metadata": {},
   "outputs": [],
   "source": []
  }
 ],
 "metadata": {
  "kernelspec": {
   "display_name": "Python 3",
   "language": "python",
   "name": "python3"
  },
  "language_info": {
   "codemirror_mode": {
    "name": "ipython",
    "version": 3
   },
   "file_extension": ".py",
   "mimetype": "text/x-python",
   "name": "python",
   "nbconvert_exporter": "python",
   "pygments_lexer": "ipython3",
   "version": "3.6.7"
  }
 },
 "nbformat": 4,
 "nbformat_minor": 2
}
