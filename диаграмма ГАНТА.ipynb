{
 "cells": [
  {
   "cell_type": "code",
   "execution_count": 23,
   "metadata": {
    "scrolled": true
   },
   "outputs": [],
   "source": [
    "import datetime\n",
    "Items = [\n",
    "    ['breakfast',\n",
    "     datetime.datetime(2019, 6, 1, 7, 15),\n",
    "     datetime.datetime(2019, 6, 1, 7, 55)\n",
    "    ],\n",
    "    ['dinner',\n",
    "     datetime.datetime(2019, 6, 1, 13, 15),\n",
    "     datetime.datetime(2019, 6, 1, 14, 55)\n",
    "    ],\n",
    "    ['walk_excirsion',\n",
    "     datetime.datetime(2019, 6, 1, 18, 15),\n",
    "     datetime.datetime(2019, 6, 1, 21, 0)\n",
    "    ],\n",
    "    ['a_photo_session',\n",
    "     datetime.datetime(2019, 6, 1, 17, 30),\n",
    "     datetime.datetime(2019, 6, 2, 22, 0)\n",
    "    ],\n",
    "    ['wine_museum',\n",
    "     datetime.datetime(2019, 6, 1, 23, 0),\n",
    "     datetime.datetime(2019, 6, 1, 23, 58)]\n",
    "]"
   ]
  },
  {
   "cell_type": "code",
   "execution_count": 24,
   "metadata": {},
   "outputs": [],
   "source": [
    "# def repack_base_list(base_list_of_events):\n",
    "#     \"\"\"Перепаковывает входящий список\"\"\"\n",
    "#     temp_list = []\n",
    "#     for _, elem in enumerate(base_list_of_events):\n",
    "#         elem = [elem[0], elem[1], elem[2]]\n",
    "#         temp_list.append(elem)\n",
    "#     return temp_list"
   ]
  },
  {
   "cell_type": "code",
   "execution_count": 25,
   "metadata": {},
   "outputs": [],
   "source": [
    "def partition_day(event):\n",
    "    print(event)\n",
    "    delta = event[2].day - event[1].day\n",
    "    if delta > 0:\n",
    "        point = event[1]\n",
    "        temp_list = []\n",
    "        time_end = datetime.time(23, 59)\n",
    "\n",
    "        for i in range(delta):\n",
    "            temp_list.append([\n",
    "                (event[0] + '_' + str(i+1)),\n",
    "                point,\n",
    "                datetime.datetime.combine(point.date(), time_end)\n",
    "            ])\n",
    "            point = datetime.datetime.combine(point.date(), time_end) + datetime.timedelta(minutes=1)\n",
    "        temp_list.append([(event[0] + '_' + str(i+2)), point, event[2]])\n",
    "        return temp_list\n",
    "    return event"
   ]
  },
  {
   "cell_type": "code",
   "execution_count": 26,
   "metadata": {},
   "outputs": [],
   "source": [
    "def unpack_lists(array):\n",
    "    result = []\n",
    "    for elem in array:\n",
    "        if type(elem[0]) is str:\n",
    "            result.append(elem)\n",
    "        else:\n",
    "            result.extend(elem)\n",
    "    return result "
   ]
  },
  {
   "cell_type": "code",
   "execution_count": 27,
   "metadata": {},
   "outputs": [
    {
     "name": "stdout",
     "output_type": "stream",
     "text": [
      "['breakfast', datetime.datetime(2019, 6, 1, 7, 15), datetime.datetime(2019, 6, 1, 7, 55)]\n",
      "['dinner', datetime.datetime(2019, 6, 1, 13, 15), datetime.datetime(2019, 6, 1, 14, 55)]\n",
      "['walk_excirsion', datetime.datetime(2019, 6, 1, 18, 15), datetime.datetime(2019, 6, 1, 21, 0)]\n",
      "['a_photo_session', datetime.datetime(2019, 6, 1, 17, 30), datetime.datetime(2019, 6, 2, 22, 0)]\n",
      "['wine_museum', datetime.datetime(2019, 6, 1, 23, 0), datetime.datetime(2019, 6, 1, 23, 58)]\n"
     ]
    }
   ],
   "source": [
    "for index, value in enumerate(Items):\n",
    "    Items[index] = partition_day(value)\n",
    "result = unpack_lists(Items)"
   ]
  },
  {
   "cell_type": "code",
   "execution_count": 30,
   "metadata": {},
   "outputs": [
    {
     "name": "stdout",
     "output_type": "stream",
     "text": [
      "['breakfast', datetime.datetime(2019, 6, 1, 7, 15), datetime.datetime(2019, 6, 1, 7, 55)]\n",
      "['dinner', datetime.datetime(2019, 6, 1, 13, 15), datetime.datetime(2019, 6, 1, 14, 55)]\n",
      "['a_photo_session_1', datetime.datetime(2019, 6, 1, 17, 30), datetime.datetime(2019, 6, 1, 23, 59)]\n",
      "['walk_excirsion', datetime.datetime(2019, 6, 1, 18, 15), datetime.datetime(2019, 6, 1, 21, 0)]\n",
      "['wine_museum', datetime.datetime(2019, 6, 1, 23, 0), datetime.datetime(2019, 6, 1, 23, 58)]\n",
      "['a_photo_session_2', datetime.datetime(2019, 6, 2, 0, 0), datetime.datetime(2019, 6, 2, 22, 0)]\n"
     ]
    }
   ],
   "source": [
    "result = sorted(result, key=lambda x: x[1])\n",
    "for i in result:\n",
    "    print(i)"
   ]
  },
  {
   "cell_type": "code",
   "execution_count": null,
   "metadata": {},
   "outputs": [],
   "source": []
  },
  {
   "cell_type": "code",
   "execution_count": null,
   "metadata": {},
   "outputs": [],
   "source": []
  },
  {
   "cell_type": "code",
   "execution_count": null,
   "metadata": {},
   "outputs": [],
   "source": []
  },
  {
   "cell_type": "code",
   "execution_count": null,
   "metadata": {},
   "outputs": [],
   "source": []
  },
  {
   "cell_type": "code",
   "execution_count": null,
   "metadata": {},
   "outputs": [],
   "source": []
  },
  {
   "cell_type": "code",
   "execution_count": null,
   "metadata": {},
   "outputs": [],
   "source": [
    "from bokeh.plotting import figure, show, output_notebook, output_file\n",
    "from bokeh.models import ColumnDataSource, Range1d\n",
    "from bokeh.models.tools import HoverTool\n",
    "import pandas as pd"
   ]
  },
  {
   "cell_type": "code",
   "execution_count": null,
   "metadata": {},
   "outputs": [],
   "source": [
    "DF=pd.DataFrame(columns=['Item','Start','End','Color'])\n",
    "?DF.loc\n",
    "# Items=[\n",
    "#     ['Завтрак','2019-6-10 7:10','2019-6-10 7:55','red'],\n",
    "#     ['Утренний шоппинг','2019-6-10 9:00','2019-6-10 11:30','blue'],\n",
    "#     ['Обед','2019-6-10 12:30','2019-6-10 14:00','red'],\n",
    "#     ['Дневной шоппинг','2019-6-10 15:20','2019-6-10 18:50','blue'],\n",
    "   \n",
    "#     ] #first items on bottom\n",
    "\n",
    "for i, Dat in enumerate(Items[::-1]):\n",
    "    DF.loc[i]=Dat\n",
    "\n",
    "#convert strings to datetime fields:\n",
    "DF['Start_dt']=pd.to_datetime(DF.Start)\n",
    "DF['End_dt']=pd.to_datetime(DF.End)\n",
    "output_file('gant1.html')"
   ]
  },
  {
   "cell_type": "code",
   "execution_count": null,
   "metadata": {},
   "outputs": [],
   "source": [
    "G=figure(\n",
    "    title='10.06.2019г.',\n",
    "    x_axis_type='datetime',\n",
    "    width=300,\n",
    "    height=150,\n",
    "    y_range=DF.Item.tolist(),\n",
    "    x_range=Range1d(\n",
    "        DF.Start_dt.min(),\n",
    "        DF.End_dt.max()\n",
    "    ),\n",
    "    tools='save'\n",
    ")\n",
    "\n",
    "hover=HoverTool(tooltips=\"Занятие: @Item<br>\\\n",
    "Начало: @Start<br>\\\n",
    "Окончание: @End\")\n",
    "G.add_tools(hover)\n",
    "\n",
    "DF['ID']=DF.index+0.25\n",
    "DF['ID1']=DF.index+0.75\n",
    "CDS=ColumnDataSource(DF)\n",
    "G.quad(left='Start_dt', right='End_dt', bottom='ID', top='ID1',source=CDS,color=\"Color\")\n",
    "#G.rect(,\"Item\",source=CDS)\n",
    "\n",
    "show(G)"
   ]
  },
  {
   "cell_type": "code",
   "execution_count": null,
   "metadata": {},
   "outputs": [],
   "source": [
    "import datetime\n",
    "print(datetime('2019, 1, 1'))"
   ]
  },
  {
   "cell_type": "code",
   "execution_count": null,
   "metadata": {},
   "outputs": [],
   "source": [
    "# x = [1, 2, 3, 4, 5]\n",
    "# y = [6, 7, 2, 4, 5]\n",
    "# output_file('gantt2.html')\n",
    "# p = figure(title='20-06-2019', x_axis_label='x', y_axis_label='y')\n",
    "# p.line(x, y, legend='Temp', line_width=2)\n",
    "# show(p)"
   ]
  },
  {
   "cell_type": "code",
   "execution_count": null,
   "metadata": {},
   "outputs": [],
   "source": []
  }
 ],
 "metadata": {
  "kernelspec": {
   "display_name": "Python 3",
   "language": "python",
   "name": "python3"
  },
  "language_info": {
   "codemirror_mode": {
    "name": "ipython",
    "version": 3
   },
   "file_extension": ".py",
   "mimetype": "text/x-python",
   "name": "python",
   "nbconvert_exporter": "python",
   "pygments_lexer": "ipython3",
   "version": "3.6.7"
  }
 },
 "nbformat": 4,
 "nbformat_minor": 2
}
